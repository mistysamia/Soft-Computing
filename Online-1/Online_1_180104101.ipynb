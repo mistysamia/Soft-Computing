{
  "nbformat": 4,
  "nbformat_minor": 0,
  "metadata": {
    "colab": {
      "name": "Online 1_180104101.ipynb",
      "provenance": [],
      "collapsed_sections": []
    },
    "kernelspec": {
      "name": "python3",
      "display_name": "Python 3"
    },
    "language_info": {
      "name": "python"
    }
  },
  "cells": [
    {
      "cell_type": "code",
      "execution_count": 1,
      "metadata": {
        "colab": {
          "base_uri": "https://localhost:8080/"
        },
        "id": "oc-LRlspp2C1",
        "outputId": "e6347158-46c5-4b0a-f2da-dc191d00c34c"
      },
      "outputs": [
        {
          "output_type": "stream",
          "name": "stdout",
          "text": [
            "[[1.42332346 1.39804805 1.03025676]\n",
            " [1.34081696 0.63828151 0.30711952]\n",
            " [0.41295075 0.43172776 0.5206911 ]]\n",
            "[[ 2  3  6  7  4]\n",
            " [ 3  5  7  9 10]\n",
            " [ 6  7  8  9 12]]\n",
            "[[8]]\n"
          ]
        }
      ],
      "source": [
        "import numpy as np\n",
        "\n",
        "A= np.random.random((3,4))\n",
        "B= np.random.random((3,3))\n",
        "D= A.T;\n",
        "X= A @ D\n",
        "C = (X-B)\n",
        "print(C)\n",
        "\n",
        "A= np.array([[2,3,6,7,4],[3,5,7,9,10 ],[6,7,8,9,12]])\n",
        "\n",
        "print(A)\n",
        "\n",
        "print(A[-1:,-3:-2])"
      ]
    }
  ]
}