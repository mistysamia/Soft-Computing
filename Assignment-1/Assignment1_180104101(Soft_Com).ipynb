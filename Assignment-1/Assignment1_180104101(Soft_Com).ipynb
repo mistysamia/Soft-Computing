{
  "nbformat": 4,
  "nbformat_minor": 0,
  "metadata": {
    "colab": {
      "name": "Assignment1_180104101(Soft Com).ipynb",
      "provenance": [],
      "collapsed_sections": []
    },
    "kernelspec": {
      "name": "python3",
      "display_name": "Python 3"
    },
    "language_info": {
      "name": "python"
    }
  },
  "cells": [
    {
      "cell_type": "markdown",
      "source": [
        "**Import Libraries**"
      ],
      "metadata": {
        "id": "2xvbqw58u8Yg"
      }
    },
    {
      "cell_type": "code",
      "execution_count": 50,
      "metadata": {
        "id": "8M_PFlR_iS5w"
      },
      "outputs": [],
      "source": [
        "import torch\n",
        "import torch.nn as nn\n",
        "import numpy as np\n",
        "import torch.nn.functional as F\n",
        "import torchvision\n",
        "import torchvision.transforms as transforms\n",
        "import torchvision.datasets as dsets"
      ]
    },
    {
      "cell_type": "markdown",
      "source": [
        "**Drive** **Connection**"
      ],
      "metadata": {
        "id": "k3lbrxlavtUV"
      }
    },
    {
      "cell_type": "code",
      "source": [
        "from google.colab import drive\n",
        "drive.mount('/content/drive')"
      ],
      "metadata": {
        "colab": {
          "base_uri": "https://localhost:8080/"
        },
        "id": "8-63sXbEvycr",
        "outputId": "c3aaacf8-4c0e-4aa3-fac9-48ec69832beb"
      },
      "execution_count": 51,
      "outputs": [
        {
          "output_type": "stream",
          "name": "stdout",
          "text": [
            "Drive already mounted at /content/drive; to attempt to forcibly remount, call drive.mount(\"/content/drive\", force_remount=True).\n"
          ]
        }
      ]
    },
    {
      "cell_type": "markdown",
      "source": [
        "**Data Load From Drive**"
      ],
      "metadata": {
        "id": "F4vAJCLow0xV"
      }
    },
    {
      "cell_type": "code",
      "source": [
        "train_Normal = np.load(\"/content/drive/MyDrive/SoftCom/train_Normal_128.npy\",allow_pickle=False, fix_imports=True)\n",
        "train_virus = np.load(\"/content/drive/MyDrive/SoftCom/train_Virus_128.npy\",allow_pickle=False, fix_imports=True)\n",
        "test_Normal = np.load(\"/content/drive/MyDrive/SoftCom/test_Normal_128.npy\",allow_pickle=False, fix_imports=True)\n",
        "test_virus = np.load(\"/content/drive/MyDrive/SoftCom/test_Virus_128.npy\",allow_pickle=False, fix_imports=True)"
      ],
      "metadata": {
        "id": "MOPHlWzzw8Jf"
      },
      "execution_count": 52,
      "outputs": []
    },
    {
      "cell_type": "markdown",
      "source": [
        "**Data Preprocessing**"
      ],
      "metadata": {
        "id": "1kw4PuLByNaI"
      }
    },
    {
      "cell_type": "code",
      "source": [
        "#Train Data\n",
        "train_normal = torch.from_numpy(train_Normal)\n",
        "train_virus = torch.from_numpy(train_virus)\n",
        "train_normal_label = torch.zeros(len(train_normal))\n",
        "train_virus_label = torch.ones(len(train_virus))\n",
        "train_data = torch.cat((train_normal, train_virus), axis=0)\n",
        "train_label = torch.cat((train_normal_label, train_virus_label), axis=0)\n",
        "\n",
        "train_data = torch.reshape(train_data, (2686,1,128,128))\n",
        "\n",
        "\n",
        "#Test Data\n",
        "test_normal = test_Normal.astype(np.float32)#64\n",
        "test_normal = torch.from_numpy(test_normal)\n",
        "test_virus = torch.from_numpy(test_virus)\n",
        "test_normal_label = torch.zeros(len(test_normal))\n",
        "test_virus_label = torch.ones(len(test_virus))\n",
        "test_data = torch.cat((test_normal, test_virus), axis=0)\n",
        "test_label = torch.cat((test_normal_label, test_virus_label), axis=0)\n",
        "print(test_data.shape)\n",
        "test_data = torch.reshape(test_data,(382,1,128,128))"
      ],
      "metadata": {
        "id": "yojy2XzZyLC9",
        "colab": {
          "base_uri": "https://localhost:8080/"
        },
        "outputId": "be1ccb14-b7f3-4643-c44f-e6ac180ceac4"
      },
      "execution_count": 53,
      "outputs": [
        {
          "output_type": "stream",
          "name": "stdout",
          "text": [
            "torch.Size([382, 128, 128, 1])\n"
          ]
        }
      ]
    },
    {
      "cell_type": "markdown",
      "source": [
        "**Seeding**"
      ],
      "metadata": {
        "id": "6cVzoR4c2u4i"
      }
    },
    {
      "cell_type": "code",
      "source": [
        "torch.manual_seed(101)\n"
      ],
      "metadata": {
        "colab": {
          "base_uri": "https://localhost:8080/"
        },
        "id": "BtyJ0TcY2rDg",
        "outputId": "dba4e6e2-9b85-43f5-b622-d4c011199b71"
      },
      "execution_count": 54,
      "outputs": [
        {
          "output_type": "execute_result",
          "data": {
            "text/plain": [
              "<torch._C.Generator at 0x7fead25e6ab0>"
            ]
          },
          "metadata": {},
          "execution_count": 54
        }
      ]
    },
    {
      "cell_type": "code",
      "source": [
        "x=int(torch.rand(1,)*1000)"
      ],
      "metadata": {
        "id": "3noJae_j2_M1"
      },
      "execution_count": 55,
      "outputs": []
    },
    {
      "cell_type": "markdown",
      "source": [
        "**Slicing**"
      ],
      "metadata": {
        "id": "ss4Bt8Hw3ygq"
      }
    },
    {
      "cell_type": "code",
      "source": [
        "traindata = [train_data[i] for i in range(len(train_data))]\n",
        "train = torch.stack([d[0] for d in traindata], dim=0)\n",
        "train=train[101:x]        \n",
        "\n",
        "\n",
        "testdata = [test_data[i] for i in range(len(test_data))]\n",
        "test = torch.stack([d[0] for d in testdata], dim=0)       \n",
        "test=test[0:382]"
      ],
      "metadata": {
        "id": "0wU7oTgX31l_"
      },
      "execution_count": 56,
      "outputs": []
    },
    {
      "cell_type": "code",
      "source": [
        "train_y = train_label  \n",
        "test_y = test_label\n"
      ],
      "metadata": {
        "id": "6B_-YD284VC4"
      },
      "execution_count": 57,
      "outputs": []
    },
    {
      "cell_type": "markdown",
      "source": [
        ""
      ],
      "metadata": {
        "id": "lxl0MyUQOBdO"
      }
    },
    {
      "cell_type": "markdown",
      "source": [
        "**Loading Train and Test Data**"
      ],
      "metadata": {
        "id": "CJcxMXFJ4hSO"
      }
    },
    {
      "cell_type": "code",
      "source": [
        "train_loader = torch.utils.data.DataLoader(dataset= (train,train_y) , \n",
        "                                           shuffle=True)   # It's better to shuffle the whole training dataset! \n",
        "\n",
        "test_loader = torch.utils.data.DataLoader(dataset= (test,test_y), \n",
        "                                         shuffle=False)"
      ],
      "metadata": {
        "id": "QyB6xomI4gB7"
      },
      "execution_count": 58,
      "outputs": []
    },
    {
      "cell_type": "markdown",
      "source": [
        ""
      ],
      "metadata": {
        "id": "B746P_1h46zJ"
      }
    },
    {
      "cell_type": "markdown",
      "source": [
        "**CNN Model Architeture**"
      ],
      "metadata": {
        "id": "9VtQ43Z54wjh"
      }
    },
    {
      "cell_type": "code",
      "source": [
        "class NeuralNetwork(nn.Module):\n",
        "    def __init__(self, input_dim):\n",
        "        super(NeuralNetwork, self).__init__()\n",
        "        self.cnn_layer_1 = nn.Conv2d(in_channels=1, out_channels=16,kernel_size=5, stride=1, padding=2)\n",
        "        self.cnn_layer_2 = nn.Conv2d(in_channels=16, out_channels=32,kernel_size=5, stride=1, padding=2)\n",
        "        \n",
        "        self.flatten = nn.Flatten()\n",
        "        self.maxpool = nn.MaxPool2d(2,2)\n",
        "        \n",
        "        self.linear_layer_1 = nn.Linear(32*32*32, 512) \n",
        "        self.linear_layer_2 = nn.Linear(512, 128)\n",
        "        self.linear_layer_3 = nn.Linear(128, 2)   \n",
        "        \n",
        "        self.relu = nn.ReLU()\n",
        "        self.sigmoid = nn.Sigmoid()\n",
        "        self.dropout = nn.Dropout(.2)\n",
        "        \n",
        "        # self.flatten = nn.Flatten()\n",
        "        \n",
        "    def forward(self, x):\n",
        "\n",
        "        x = self.cnn_layer_1(x)\n",
        "        x = self.dropout(x)\n",
        "        x = self.relu(x)\n",
        "        x = self.maxpool(x) \n",
        "        \n",
        "        #print(x.shape)\n",
        "        \n",
        "        x = self.cnn_layer_2(x)\n",
        "        x = self.dropout(x)\n",
        "        x = self.relu(x)\n",
        "        x = self.maxpool(x)\n",
        "        \n",
        "        #print(x.shape)\n",
        "        \n",
        "        x = self.flatten(x)# ekhon koto gula pixel oitar dimention calculate \n",
        "        #print(x.shape)\n",
        "        \n",
        "        x = self.linear_layer_1(x)\n",
        "        x = self.dropout(x)\n",
        "        x = self.relu(x)\n",
        "        \n",
        "        x = self.linear_layer_2(x)\n",
        "        x = self.dropout(x)\n",
        "        x = self.relu(x)\n",
        "        \n",
        "        x = self.linear_layer_3(x)\n",
        "        #logits = self.sigmoid(x)\n",
        "        return x"
      ],
      "metadata": {
        "id": "lnSou3W95BBU"
      },
      "execution_count": 59,
      "outputs": []
    },
    {
      "cell_type": "markdown",
      "source": [
        "**Model Creation**"
      ],
      "metadata": {
        "id": "Dqk0gXee5Md8"
      }
    },
    {
      "cell_type": "code",
      "source": [
        "model = NeuralNetwork(128*128)\n",
        "print(model)"
      ],
      "metadata": {
        "colab": {
          "base_uri": "https://localhost:8080/"
        },
        "id": "KsjIGoW85N2T",
        "outputId": "4f5ff5a9-f133-424f-e0fb-eae16a15194a"
      },
      "execution_count": 60,
      "outputs": [
        {
          "output_type": "stream",
          "name": "stdout",
          "text": [
            "NeuralNetwork(\n",
            "  (cnn_layer_1): Conv2d(1, 16, kernel_size=(5, 5), stride=(1, 1), padding=(2, 2))\n",
            "  (cnn_layer_2): Conv2d(16, 32, kernel_size=(5, 5), stride=(1, 1), padding=(2, 2))\n",
            "  (flatten): Flatten(start_dim=1, end_dim=-1)\n",
            "  (maxpool): MaxPool2d(kernel_size=2, stride=2, padding=0, dilation=1, ceil_mode=False)\n",
            "  (linear_layer_1): Linear(in_features=32768, out_features=512, bias=True)\n",
            "  (linear_layer_2): Linear(in_features=512, out_features=128, bias=True)\n",
            "  (linear_layer_3): Linear(in_features=128, out_features=2, bias=True)\n",
            "  (relu): ReLU()\n",
            "  (sigmoid): Sigmoid()\n",
            "  (dropout): Dropout(p=0.2, inplace=False)\n",
            ")\n"
          ]
        }
      ]
    },
    {
      "cell_type": "code",
      "source": [
        "from torchsummary import summary\n",
        "summary(model,(1,128,128))"
      ],
      "metadata": {
        "id": "XO0KTovX5biY",
        "colab": {
          "base_uri": "https://localhost:8080/"
        },
        "outputId": "a2b84dc1-d013-4279-a43f-ee250af71208"
      },
      "execution_count": 61,
      "outputs": [
        {
          "output_type": "stream",
          "name": "stdout",
          "text": [
            "----------------------------------------------------------------\n",
            "        Layer (type)               Output Shape         Param #\n",
            "================================================================\n",
            "            Conv2d-1         [-1, 16, 128, 128]             416\n",
            "           Dropout-2         [-1, 16, 128, 128]               0\n",
            "              ReLU-3         [-1, 16, 128, 128]               0\n",
            "         MaxPool2d-4           [-1, 16, 64, 64]               0\n",
            "            Conv2d-5           [-1, 32, 64, 64]          12,832\n",
            "           Dropout-6           [-1, 32, 64, 64]               0\n",
            "              ReLU-7           [-1, 32, 64, 64]               0\n",
            "         MaxPool2d-8           [-1, 32, 32, 32]               0\n",
            "           Flatten-9                [-1, 32768]               0\n",
            "           Linear-10                  [-1, 512]      16,777,728\n",
            "          Dropout-11                  [-1, 512]               0\n",
            "             ReLU-12                  [-1, 512]               0\n",
            "           Linear-13                  [-1, 128]          65,664\n",
            "          Dropout-14                  [-1, 128]               0\n",
            "             ReLU-15                  [-1, 128]               0\n",
            "           Linear-16                    [-1, 2]             258\n",
            "================================================================\n",
            "Total params: 16,856,898\n",
            "Trainable params: 16,856,898\n",
            "Non-trainable params: 0\n",
            "----------------------------------------------------------------\n",
            "Input size (MB): 0.06\n",
            "Forward/backward pass size (MB): 10.01\n",
            "Params size (MB): 64.30\n",
            "Estimated Total Size (MB): 74.38\n",
            "----------------------------------------------------------------\n"
          ]
        }
      ]
    },
    {
      "cell_type": "markdown",
      "source": [
        "**Optimizer**"
      ],
      "metadata": {
        "id": "39CEcsqH5tbF"
      }
    },
    {
      "cell_type": "code",
      "source": [
        "loss_fn = nn.CrossEntropyLoss()\n",
        "optimizer = torch.optim.SGD(model.parameters(), lr=.01)"
      ],
      "metadata": {
        "id": "zDj1L3kn5u-O"
      },
      "execution_count": 62,
      "outputs": []
    },
    {
      "cell_type": "code",
      "source": [
        "def trainModel(model, loss_fn, optimizer):\n",
        "    model.train()\n",
        "\n",
        "    batch = 200\n",
        "\n",
        "    loss = 0\n",
        "    for i in range(train.shape[0]):\n",
        "      x, y = torch.reshape(train[i],(1,1,128,128)), torch.tensor([train_y[i]], dtype=torch.float)\n",
        "      label=torch.zeros([1,2,], dtype=torch.float32)\n",
        "      label[0,int(y.item())]=1\n",
        "      # Compute prediction error\n",
        "      pred = model(x)     \n",
        "      #print(pred)\n",
        "      #print(label)\n",
        "      loss += loss_fn(pred, label)\n",
        "      \n",
        "      if i>0 and (i+1)%batch == 0:\n",
        "          # Backpropagation\n",
        "          optimizer.zero_grad()\n",
        "          loss.backward()\n",
        "          optimizer.step()\n",
        "          print(f'Training Loss: {loss.item():.4f}', end=\"\\r\")\n",
        "          loss = 0\n",
        "    print()"
      ],
      "metadata": {
        "id": "_hGLVHB858Xw"
      },
      "execution_count": 63,
      "outputs": []
    },
    {
      "cell_type": "markdown",
      "source": [
        "**Model testing**"
      ],
      "metadata": {
        "id": "7JMYc5aq6J5e"
      }
    },
    {
      "cell_type": "code",
      "source": [
        "def testModel(model, loss_fn):\n",
        "    model.eval()\n",
        "\n",
        "    size = test.shape[0]\n",
        "    correct=0\n",
        "    loss = 0\n",
        "    total =382\n",
        "    with torch.no_grad():\n",
        "      for i in range(test.shape[0]):\n",
        "        x, y = torch.reshape(test[i],(1,1,128,128)), torch.tensor([test_y[i]], dtype=torch.float)\n",
        "        label=torch.zeros([1,2,], dtype=torch.float32)\n",
        "        label[0,int(y.item())]=1\n",
        "        pred = model(x)\n",
        "        #print(pred)\n",
        "        predicted = torch.argmax(pred)\n",
        "        #print(predicted)\n",
        "        #print(y)\n",
        "\n",
        "\n",
        "        # Total correct predictions\n",
        "        correct += (predicted == int(y)).sum()\n",
        "\n",
        "        loss += loss_fn(pred, label)\n",
        "      \n",
        "    loss /= size\n",
        "    accuracy = 100 * correct.item() / total\n",
        "\n",
        "    # Print Loss\n",
        "    print('Loss: {}. Accuracy: {}'.format({loss}, accuracy))"
      ],
      "metadata": {
        "id": "oTX-DX-H5-Uk"
      },
      "execution_count": 64,
      "outputs": []
    },
    {
      "cell_type": "code",
      "source": [
        "epochs = 4\n",
        "for t in range(epochs):\n",
        "    print(f\"Epoch {t+1}\\n-------------------------------\")\n",
        "    trainModel(model, loss_fn, optimizer)\n",
        "    testModel(model, loss_fn)\n",
        "print(\"Done!\")"
      ],
      "metadata": {
        "colab": {
          "base_uri": "https://localhost:8080/"
        },
        "id": "HuGrFn4s6BfA",
        "outputId": "d3bc0e29-bfb9-44fc-ab14-695123bc1956"
      },
      "execution_count": 65,
      "outputs": [
        {
          "output_type": "stream",
          "name": "stdout",
          "text": [
            "Epoch 1\n",
            "-------------------------------\n",
            "\n",
            "Loss: {tensor(1.4164)}. Accuracy: 38.7434554973822\n",
            "Epoch 2\n",
            "-------------------------------\n",
            "\n",
            "Loss: {tensor(1.4164)}. Accuracy: 38.7434554973822\n",
            "Epoch 3\n",
            "-------------------------------\n",
            "\n",
            "Loss: {tensor(1.4164)}. Accuracy: 38.7434554973822\n",
            "Epoch 4\n",
            "-------------------------------\n",
            "\n",
            "Loss: {tensor(1.4164)}. Accuracy: 38.7434554973822\n",
            "Done!\n"
          ]
        }
      ]
    }
  ]
}